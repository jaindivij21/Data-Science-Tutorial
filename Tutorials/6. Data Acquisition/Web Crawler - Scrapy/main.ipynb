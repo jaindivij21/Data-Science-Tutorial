{
 "cells": [
  {
   "cell_type": "code",
   "execution_count": 2,
   "metadata": {},
   "outputs": [
    {
     "name": "stdout",
     "output_type": "stream",
     "text": [
      "New Scrapy project 'firstProject', using template directory 'D:\\Work\\Code\\Python\\Programs\\Data-Science-Tutorials\\newenv\\lib\\site-packages\\scrapy\\templates\\project', created in:\n",
      "    d:\\Work\\Code\\Python\\Programs\\Data-Science-Tutorials\\Tutorials\\6. Data Acquisition\\Web Crawler - Scrapy\\firstProject\n",
      "\n",
      "You can start your first spider with:\n",
      "    cd firstProject\n",
      "    scrapy genspider example example.com\n"
     ]
    }
   ],
   "source": [
    "!scrapy startproject firstProject\n"
   ]
  },
  {
   "cell_type": "code",
   "execution_count": null,
   "metadata": {},
   "outputs": [],
   "source": [
    "# Create the spider class inside ->\n",
    "# project > project > spiders > firstSpider.py"
   ]
  }
 ],
 "metadata": {
  "interpreter": {
   "hash": "761e5538695f7d3cb70790942796c79666c801e53a836061ee93fa914436ba31"
  },
  "kernelspec": {
   "display_name": "Python 3.10.1 64-bit ('newenv': venv)",
   "language": "python",
   "name": "python3"
  },
  "language_info": {
   "codemirror_mode": {
    "name": "ipython",
    "version": 3
   },
   "file_extension": ".py",
   "mimetype": "text/x-python",
   "name": "python",
   "nbconvert_exporter": "python",
   "pygments_lexer": "ipython3",
   "version": "3.10.1"
  },
  "orig_nbformat": 4
 },
 "nbformat": 4,
 "nbformat_minor": 2
}
